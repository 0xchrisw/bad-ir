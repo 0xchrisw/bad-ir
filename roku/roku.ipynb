{
 "cells": [
  {
   "cell_type": "markdown",
   "metadata": {},
   "source": [
    "# Roku Experiments\n",
    "\n",
    "## Resources\n",
    "  - https://github.com/flirc/sdk/blob/master/cli/src/cmds/ir_transmit.c\n",
    "  - https://github.com/hulu/roku-dev-cli/blob/master/roku_dev_cli/roku_dev_cli.py\n",
    "  - https://gist.github.com/peterjc/7422624\n",
    "  - https://www.exploitee.rs/index.php/Exploiting_Roku"
   ]
  },
  {
   "cell_type": "code",
   "execution_count": 14,
   "metadata": {},
   "outputs": [],
   "source": [
    "\n",
    "OUI = [\n",
    "  \"A8B57C\", \"BCD7D4\", \"20EFBD\", \"CC6DA0\",\n",
    "  \"DC3A5E\", \"B83E59\", \"AC3A7A\"\n",
    "  ]\n",
    "\n"
   ]
  },
  {
   "cell_type": "code",
   "execution_count": 13,
   "metadata": {},
   "outputs": [
    {
     "data": {
      "text/plain": [
       "<Response [200]>"
      ]
     },
     "execution_count": 13,
     "metadata": {},
     "output_type": "execute_result"
    }
   ],
   "source": [
    "import requests\n",
    "\n",
    "ROKU_IP = \"192.168.1.210\"\n",
    "\n",
    "requests.post(f\"http://{ROKU_IP}:8060/keypress/home\")\n"
   ]
  }
 ],
 "metadata": {
  "kernelspec": {
   "display_name": "Python 3.10.0 64-bit",
   "language": "python",
   "name": "python3"
  },
  "language_info": {
   "codemirror_mode": {
    "name": "ipython",
    "version": 3
   },
   "file_extension": ".py",
   "mimetype": "text/x-python",
   "name": "python",
   "nbconvert_exporter": "python",
   "pygments_lexer": "ipython3",
   "version": "3.10.0"
  },
  "orig_nbformat": 4,
  "vscode": {
   "interpreter": {
    "hash": "aee8b7b246df8f9039afb4144a1f6fd8d2ca17a180786b69acc140d282b71a49"
   }
  }
 },
 "nbformat": 4,
 "nbformat_minor": 2
}
