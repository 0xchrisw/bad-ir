{
 "cells": [
  {
   "cell_type": "markdown",
   "metadata": {},
   "source": [
    "# Roku Key Injection - Key Test\n",
    "\n",
    "Test keys to ensure they do not overflow.\n"
   ]
  },
  {
   "cell_type": "code",
   "execution_count": null,
   "metadata": {},
   "outputs": [],
   "source": [
    "\n",
    "import os\n",
    "import platform\n",
    "import time\n",
    "\n",
    "from pathlib import Path\n",
    "\n",
    "project_dir = Path().resolve()\n",
    "flirc = {\n",
    "  'darwin': str(Path(project_dir / \"bin/darwin/flirc_util\")),\n",
    "}\n",
    "flirc_bin = flirc[platform.system().lower()]\n",
    "\n",
    "def code_to_string(command):\n",
    "  return ','.join([str(i) for i in command])\n",
    "\n",
    "\n",
    "def send_command(command):\n",
    "  output = []\n",
    "  for part in command:\n",
    "    cmd = code_to_string(part)\n",
    "    flirc_command = \" \".join([\n",
    "      flirc_bin,\n",
    "        f\"sendir\",\n",
    "        f\"--ik=23000\",\n",
    "        # f\"--repeat=3\",\n",
    "        f\"--pattern={cmd}\"\n",
    "    ])\n",
    "    output.append(os.popen(flirc_command).read())\n",
    "  return output"
   ]
  },
  {
   "cell_type": "code",
   "execution_count": 10,
   "metadata": {},
   "outputs": [
    {
     "data": {
      "text/plain": [
       "['Transmitting IR Pattern...Done!\\n']"
      ]
     },
     "execution_count": 10,
     "metadata": {},
     "output_type": "execute_result"
    }
   ],
   "source": [
    "\n",
    "RIGHT = [\n",
    "  [0,8981,4480,544,565,519,1662,559,550,518,1661,544,565,518,1660,546,1658,547,1659,546,563,521,1659,546,565,519,566,518,567,516,567,517,1660,545,1662,543,566,518,1660,545,1659,546,1657,549,1657,548,563,521,565,518,566,518,1661,596,490,542,569,525,560,524,559,524,1654,552,1652,543,1661,544]\n",
    "]\n",
    "send_command(RIGHT)\n",
    "send_command(RIGHT)\n",
    "send_command(RIGHT)"
   ]
  },
  {
   "cell_type": "code",
   "execution_count": null,
   "metadata": {},
   "outputs": [],
   "source": [
    "\n",
    "# 32 | \n",
    "# 24 | \n",
    "# 20 | \n",
    "# 16 | \n",
    "# 12 | \n",
    "#  8 | \n",
    "#  8 | Preamble(2) | Toggle(1) | Address(5) \n",
    "#    |   \n",
    "\n",
    "# https://gist.github.com/peterjc/7422624\n",
    "\n",
    "print(bin(8975))\n",
    "print(bin(8974))"
   ]
  }
 ],
 "metadata": {
  "kernelspec": {
   "display_name": "Python 3.10.0 64-bit",
   "language": "python",
   "name": "python3"
  },
  "language_info": {
   "codemirror_mode": {
    "name": "ipython",
    "version": 3
   },
   "file_extension": ".py",
   "mimetype": "text/x-python",
   "name": "python",
   "nbconvert_exporter": "python",
   "pygments_lexer": "ipython3",
   "version": "3.10.0"
  },
  "orig_nbformat": 4,
  "vscode": {
   "interpreter": {
    "hash": "aee8b7b246df8f9039afb4144a1f6fd8d2ca17a180786b69acc140d282b71a49"
   }
  }
 },
 "nbformat": 4,
 "nbformat_minor": 2
}
